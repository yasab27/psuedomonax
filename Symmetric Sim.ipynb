{
 "cells": [
  {
   "cell_type": "markdown",
   "id": "b8bec72b-1f52-4d49-81ee-48c8330027f2",
   "metadata": {},
   "source": [
    "## Uniform Swarming Simulator\n",
    "\n",
    "In this notebook, we leverage Jax in order to perform GPU accelerated simulation of the idealized case of a perfectly simulation of bacterial swarming. This solves the ideal case where there is no spatial heterogeneity in the initial nutrient concentration in the system, allowing to avoid needing to resolve the individual branches areas tensor. Additionally, we also treat the system with periodic boundary conditions for simplicity and solve the nutrient PDE pseudospectrally.\n",
    "\n",
    "We begin by importing all dependencies of interest. "
   ]
  },
  {
   "cell_type": "code",
   "execution_count": 1,
   "id": "8a880d49",
   "metadata": {},
   "outputs": [
    {
     "name": "stderr",
     "output_type": "stream",
     "text": [
      "/home/users/ymb8/Jax/env/lib/python3.10/site-packages/tqdm/auto.py:21: TqdmWarning: IProgress not found. Please update jupyter and ipywidgets. See https://ipywidgets.readthedocs.io/en/stable/user_install.html\n",
      "  from .autonotebook import tqdm as notebook_tqdm\n"
     ]
    }
   ],
   "source": [
    "# Import numerical jax dependencies\n",
    "import jax\n",
    "from jax import numpy as jnp\n",
    "\n",
    "# For readability. \n",
    "from collections import namedtuple\n",
    "\n",
    "# Import plotting dependencies\n",
    "import matplotlib.pyplot as plt\n",
    "from jax_tqdm import scan_tqdm\n",
    "from IPython.display import clear_output"
   ]
  },
  {
   "cell_type": "markdown",
   "id": "34d80d17-f522-4e3e-ba56-9410a19c0f90",
   "metadata": {},
   "source": [
    "First we will define all our immutable simulation parameters up front. These can be easily adjusted throughout the course of the simulation as needed. "
   ]
  },
  {
   "cell_type": "code",
   "execution_count": 2,
   "id": "089117ad",
   "metadata": {},
   "outputs": [],
   "source": [
    "# First define the parameters related to the branching parameters of the system. \n",
    "width = 4 # The width of an individual branch\n",
    "w = width\n",
    "density = 0.15 # The critical branching density, after which a pattern will split. \n",
    "\n",
    "# Next we define global variables related to the initial distribution of nutrients in the system and the energy coefficient of expansion\n",
    "N0 = 8\n",
    "gamma = 7.5 # The constant colony expansion efficiency; a measure of how much energy is needed to extend a branch basically"
   ]
  },
  {
   "cell_type": "markdown",
   "id": "33158744-302e-49dd-b13a-c9116f5bcbf4",
   "metadata": {},
   "source": [
    "Next we will define the parameters of the PDE, including the spatial domain of the system simulation in both physical and wavenumber space. "
   ]
  },
  {
   "cell_type": "code",
   "execution_count": 54,
   "id": "ba6836df-e829-4db8-97ca-a396e80fbd5b",
   "metadata": {},
   "outputs": [],
   "source": [
    "# Define geometry of simulation in time and space. \n",
    "L = 90 # Length of side of domain. \n",
    "totalT = 24 # Simulation time length\n",
    "dt = 0.02 # Integration time step\n",
    "nt = int(totalT/dt) # Number of time steps\n",
    "\n",
    "# Define the number of nodes of the simualtion. \n",
    "nx = 1000 # Number of grid points\n",
    "ny = nx # Number of grid points\n",
    "dx = L / nx # Grid spacing\n",
    "dy = dx # Grid spacing\n",
    "\n",
    "# Create a FD grid\n",
    "x = jnp.arange(-L/2, L/2,dx)\n",
    "y = jnp.arange(-L/2, L/2,dy)\n",
    "XX, YY = jnp.meshgrid(x, y)\n",
    "RR = jnp.sqrt(XX**2 + YY**2)\n",
    "\n",
    "# Create an analogous fourier transform of the grid for use in solving the diffusion PDE. \n",
    "kx = 2*jnp.pi*jnp.fft.fftfreq(x.shape[0], dx)\n",
    "ky = 2*jnp.pi*jnp.fft.fftfreq(x.shape[0], dx)\n",
    "\n",
    "KX, KY = jnp.meshgrid(kx, ky)\n",
    "K = jnp.sqrt(KX**2 + KY**2)"
   ]
  },
  {
   "cell_type": "markdown",
   "id": "56cc051b-fe4d-44bd-8cd5-cff5238f92dd",
   "metadata": {},
   "source": [
    "Now we fix the parameters associated to the pharmokinetics of the system. For a full description of the meaning of these model parameters, see the original Luo et. al paper from MSB. "
   ]
  },
  {
   "cell_type": "code",
   "execution_count": 55,
   "id": "decfc2a4-3fff-4a0e-866d-83a8d089f670",
   "metadata": {},
   "outputs": [],
   "source": [
    "bN = 160. # beta uptake constant\n",
    "DN = 9.; # Diffusion constant \n",
    "aC = 1.2; # alpha elongation efficiency constant\n",
    "KN = 0.8; # half saturation for nutrient uptake kinetcs\n",
    "Cm = 0.05; # Half saturation for cell density in monod model. \n",
    "r0 = 5.0 # Initial radius of our colony inocculation point\n",
    "c0 = 1.6 # Initial total number of cells in our system measured in a.u. "
   ]
  },
  {
   "cell_type": "markdown",
   "id": "7c2bbfb7-56b3-4f26-97de-c7209a0e32e7",
   "metadata": {},
   "source": [
    "Now we define the first of our jax pure functions to handle updating the state of the system. This specific function will intake the current distribution of the nutrients in the system as well as the current distribution of cells and update the nutrient by numerically solving the reaction-diffusion PDE. "
   ]
  },
  {
   "cell_type": "code",
   "execution_count": 56,
   "id": "ee1d3820-1bc8-4424-a794-5dc27b3a58f1",
   "metadata": {},
   "outputs": [],
   "source": [
    "def pde_update(pde_state, x):\n",
    "    # First we need to unpack the PDE state for the nutrient and cell biomass distribution of the system\n",
    "    N, C, P = pde_state\n",
    "\n",
    "    # First, we compute our reaction term to see how much growth the system will undergo\n",
    "    fN = N / (N + KN) * Cm / (C + Cm) * C\n",
    "    dN = -bN*fN\n",
    "    dN_hat = jnp.fft.fft2(dN)\n",
    "\n",
    "    # Now we solve for the reaction diffusion PDE via fourier space CN timestepping\n",
    "    N_hat = jnp.fft.fft2(N)\n",
    "    pre_factor  = (1 + 0.5*DN*(K**2)*dt)**(-1)\n",
    "    post_factor = (1 - 0.5*DN*(K**2)*dt)\n",
    "    N_new = jnp.fft.ifft2(pre_factor*(post_factor*N_hat + dN_hat*dt)).real\n",
    "\n",
    "    #--- Update cell density state ---#\n",
    "    dC = aC * fN\n",
    "    C_new = C + dC*dt\n",
    "\n",
    "    return (N_new,C_new, P), None"
   ]
  },
  {
   "cell_type": "markdown",
   "id": "53a8c000-0cca-4a2b-a26f-d55988740d24",
   "metadata": {},
   "source": [
    "Now we'll define a utility function in Jax to compute the PSD between the given set of coordinates. This will be used to assess the density of individual branches to determine bifurcation. "
   ]
  },
  {
   "cell_type": "code",
   "execution_count": 57,
   "id": "3ae9ebb6-3459-487a-bf04-11e5889b409d",
   "metadata": {},
   "outputs": [],
   "source": [
    "def pairwise_distances(coordinates):\n",
    "    # Calculate squared distances between all pairs of coordinates\n",
    "    squared_distances = jnp.sum((coordinates[:, None] - coordinates) ** 2, axis=-1)\n",
    "    # Take the square root to get the actual distances\n",
    "    distances = jnp.sqrt(squared_distances)\n",
    "    return distances"
   ]
  },
  {
   "cell_type": "markdown",
   "id": "e548aa22-32c1-415c-a5ca-48506c218ead",
   "metadata": {},
   "source": [
    "Now we will define the subroutines that will be used in updating the values of the system during the simulation. We have already defined the solver for the PDE step of the system, we will now consider subroutines for initializing and updating the branching tip agents throughout the course of the simulation. "
   ]
  },
  {
   "cell_type": "code",
   "execution_count": 58,
   "id": "df7d53bd-cf2d-4e8d-9e9d-e862c30424ce",
   "metadata": {},
   "outputs": [],
   "source": [
    "def init_swarm(num_init_branches, max_tips):\n",
    "    swarm_array = jnp.zeros((2*max_tips+2, 3))\n",
    "    swarm_mask = jnp.zeros(2*max_tips+2)\n",
    "    start_layer = jnp.ceil(jnp.log2(num_init_branches))\n",
    "    start_index = jnp.power(2,start_layer).astype(jnp.int32)\n",
    "\n",
    "    # Initialize the swarm array positions and angles\n",
    "    theta0 = jnp.linspace(jnp.pi/2, jnp.pi/2 + 2*jnp.pi, num_init_branches+1)[:-1]\n",
    "    swarm_array = swarm_array.at[start_index:start_index+num_init_branches,2].set(theta0)\n",
    "    swarm_array = swarm_array.at[start_index:start_index+num_init_branches,1].set( r0*jnp.sin(theta0) )\n",
    "    swarm_array = swarm_array.at[start_index:start_index+num_init_branches,0].set( r0*jnp.cos(theta0) )\n",
    "    \n",
    "    swarm_mask = swarm_mask.at[start_index:start_index+num_init_branches].set(1)\n",
    "    return swarm_array, swarm_mask \n",
    "    \n",
    "coords, mask = init_swarm(5, 64)"
   ]
  },
  {
   "cell_type": "code",
   "execution_count": 59,
   "id": "fb6e44bb-64cf-4de9-b50f-4f07135756fa",
   "metadata": {},
   "outputs": [],
   "source": [
    "def init_pde(C0, N0, R0):\n",
    "    \"\"\"Initialize the PDE parameters for the system.\"\"\"\n",
    "    \n",
    "    N = jnp.zeros((nx, ny)) + N0\n",
    "    P = (RR < R0).astype(jnp.int32)\n",
    "    C = C0/( jnp.sum(P) * nx * ny)*(P)\n",
    "    n_tips0 = max(jnp.ceil(2 * jnp.pi * r0 * density),2)\n",
    "\n",
    "    return (N, C, P), n_tips0"
   ]
  },
  {
   "cell_type": "code",
   "execution_count": 60,
   "id": "6fb463c8",
   "metadata": {},
   "outputs": [],
   "source": [
    "# definition of branch computation logic\n",
    "def branch_update(swarm_state):\n",
    "\n",
    "    swarm_array, swarm_mask = swarm_state\n",
    "    \n",
    "    #get active terminals\n",
    "    active_terminals = branch_array[:,:]\n",
    "    #compute pairwise distances between branch points\n",
    "    distance_matrix = pairwise_distances(active_terminals)\n",
    "    # compute whether to bifurcate or not\n",
    "    update_mask = jnp.min(distance_matrix, axis=1, where=jnp.nonzero(distance_matrix))\n",
    "    # compute number of new terminals to add:\n",
    "    additional_terminals = jnp.sum(update_mask)\n",
    "    \n",
    "    return updated_branch_state"
   ]
  },
  {
   "cell_type": "code",
   "execution_count": 61,
   "id": "bf4b6981-4b12-42a9-af31-a46902f43529",
   "metadata": {},
   "outputs": [],
   "source": [
    "@jax.jit\n",
    "def bilinear_interpolate(x, y, xp, yp, zp):\n",
    "    \"\"\"Given a 2D scalar field N, estimate the value given x, y.\"\"\"\n",
    "    ix, iy = jnp.clip(jnp.searchsorted(xp, x, side=\"right\"), 1, len(xp) - 1), jnp.clip(jnp.searchsorted(yp, y, side=\"right\"), 1, len(yp) - 1)\n",
    "    z_11, z_21, z_12, z_22 = zp[ix - 1, iy - 1], zp[ix, iy - 1], zp[ix - 1, iy], zp[ix, iy]\n",
    "    dx, dy = xp[ix] - xp[ix - 1], yp[iy] - yp[iy - 1]\n",
    "    z_xy1 = ((xp[ix] - x) * z_11 + (x - xp[ix - 1]) * z_21) / dx\n",
    "    z_xy2 = ((xp[ix] - x) * z_12 + (x - xp[ix - 1]) * z_22) / dx\n",
    "    z = ((yp[iy] - y) * z_xy1 + (y - yp[iy - 1]) * z_xy2) / dy\n",
    "\n",
    "    return z"
   ]
  },
  {
   "cell_type": "code",
   "execution_count": 62,
   "id": "1c612b87-ca81-42af-b852-877b6a18e3e3",
   "metadata": {},
   "outputs": [],
   "source": [
    "from jax import random, vmap\n",
    "import time\n",
    "\n",
    "import numpy as bumpy\n",
    "import scipy as crypy\n",
    "\n",
    "from scipy.interpolate import RectBivariateSpline\n",
    "\n",
    "# # Generate data points\n",
    "# key = random.PRNGKey(42069)\n",
    "# N_points = 64\n",
    "# test_x = 1*random.normal(key, (int(N_points),))\n",
    "\n",
    "# key, _ = random.split(key)\n",
    "# test_y = 1*random.normal(key, (int(N_points),))\n",
    "\n",
    "@jax.jit\n",
    "def return_candidates_matrix(x, y):\n",
    "    n_points = x.shape[0]\n",
    "    delta = jnp.pi*jnp.linspace(-1,1,50)\n",
    "    delta = jnp.tile(delta, (n_points,1) )\n",
    "\n",
    "    x_candidates = x  + 0.5*jnp.cos(delta).T\n",
    "    y_candidates = y  + 0.5*jnp.sin(delta).T\n",
    "    \n",
    "    return x_candidates.T, y_candidates.T, delta\n",
    "\n",
    "\n",
    "# x_candidates, y_candidates, delta = return_candidates_matrix(test_x, test_y)\n",
    "\n",
    "# # Create nutrient concentraiton\n",
    "# domain = jnp.arange(-5.,5+0.1, 0.1)\n",
    "# XX, YY = jnp.meshgrid(domain, domain)\n",
    "# conc = 10*(XX**2 + YY**2)\n",
    "\n",
    "@jax.jit\n",
    "def compute_optimal_theta(x_candidates, y_candidates, xp, yp, field):\n",
    "\n",
    "    # Compare against vecotrized implementaiton\n",
    "    N_interps_vec = vmap(bilinear_interpolate, in_axes = (0,0,None, None, None))(x_candidates, y_candidates, xp, yp, field.T)\n",
    "\n",
    "    # Now we need to find the argmax\n",
    "    argmaxes = jnp.argmax(N_interps_vec, axis = 1)\n",
    "    col_indices = jnp.arange(argmaxes.shape[0])\n",
    "    x_opts = x_candidates[col_indices, argmaxes]\n",
    "    y_opts = y_candidates[col_indices, argmaxes]\n",
    "    \n",
    "    theta_opts = delta[col_indices, argmaxes]\n",
    "\n",
    "    return theta_opts, x_opts, y_opts\n",
    "\n",
    "# key = random.PRNGKey(42069)\n",
    "\n",
    "# start = time.time()\n",
    "# for i in range(500):\n",
    "\n",
    "#     N_points = 64\n",
    "#     key, _ = random.split(key)\n",
    "#     test_x = 1*random.normal(key, (int(N_points),))\n",
    "    \n",
    "#     key, _ = random.split(key)\n",
    "#     test_y = 1*random.normal(key, (int(N_points),))\n",
    "\n",
    "#     x_candidates, y_candidates, delta = return_candidates_matrix(test_x, test_y)\n",
    "#     theta_opts, x_opts, y_opts = compute_optimal_theta(x_candidates, y_candidates, domain, domain, conc)\n",
    "    \n",
    "# print( (time.time() - start)) \n",
    "\n",
    "@jax.jit\n",
    "def compute_random_points(key, x):\n",
    "\n",
    "    N_points = 64\n",
    "    key1, key2, new_key = random.split(key, 3)\n",
    "    test_x = 1*random.normal(key1, (int(N_points),))\n",
    "    test_y = 1*random.normal(key2, (int(N_points),))\n",
    "\n",
    "    x_candidates, y_candidates, delta = return_candidates_matrix(test_x, test_y)\n",
    "    theta_opts, x_opts, y_opts = compute_optimal_theta(x_candidates, y_candidates, domain, domain, conc)\n",
    "\n",
    "    return new_key, None\n",
    "\n",
    "# start = time.time()\n",
    "# jax.lax.scan(compute_random_points, random.PRNGKey(42069), jnp.arange(1000))\n",
    "# print(\"Scanned Compute: \", time.time() - start)\n",
    "\n",
    "# vec_x = jnp.cos(theta_opts)\n",
    "# vec_y = jnp.sin(theta_opts)\n",
    "\n",
    "\n",
    "# plt.contourf(XX, YY, conc, levels = 50, cmap = \"RdBu\")\n",
    "# plt.colorbar()\n",
    "# plt.scatter(test_x, test_y, color = 'white', edgecolor = 'purple', s = 10)\n",
    "# #plt.scatter(x_candidates, y_candidates, color = 'black', s = 0.1)\n",
    "# #plt.scatter(x_opts, y_opts, color = 'orange', s = 10)\n",
    "# plt.quiver(test_x, test_y, vec_x, vec_y, color = 'purple')\n",
    "# plt.xlim(-3,3)\n",
    "# plt.ylim(-3,3)\n",
    "# plt.show()"
   ]
  },
  {
   "cell_type": "code",
   "execution_count": 63,
   "id": "bf6db3ed-73b0-4ab2-94ab-37cce3ad8cfd",
   "metadata": {},
   "outputs": [],
   "source": [
    "@jax.jit\n",
    "def bilinear_interpolate(x, y, xp, yp, zp):\n",
    "    \"\"\"Given a 2D scalar field N, estimate the value given x, y.\"\"\"\n",
    "    ix, iy = jnp.clip(jnp.searchsorted(xp, x, side=\"right\"), 1, len(xp) - 1), jnp.clip(jnp.searchsorted(yp, y, side=\"right\"), 1, len(yp) - 1)\n",
    "    z_11, z_21, z_12, z_22 = zp[ix - 1, iy - 1], zp[ix, iy - 1], zp[ix - 1, iy], zp[ix, iy]\n",
    "    dx, dy = xp[ix] - xp[ix - 1], yp[iy] - yp[iy - 1]\n",
    "    z_xy1 = ((xp[ix] - x) * z_11 + (x - xp[ix - 1]) * z_21) / dx\n",
    "    z_xy2 = ((xp[ix] - x) * z_12 + (x - xp[ix - 1]) * z_22) / dx\n",
    "    z = ((yp[iy] - y) * z_xy1 + (y - yp[iy - 1]) * z_xy2) / dy\n",
    "\n",
    "    return z\n",
    "\n",
    "@jax.jit\n",
    "def return_candidates_matrix(x, y, dl):\n",
    "    n_points = x.shape[0]\n",
    "    delta = jnp.pi*jnp.linspace(-1,1,N_candidates)\n",
    "    delta = jnp.tile(delta, (n_points,1) )\n",
    "\n",
    "    x_candidates = x  + dl*jnp.cos(delta).T\n",
    "    y_candidates = y  + dl*jnp.sin(delta).T\n",
    "    \n",
    "    return x_candidates.T, y_candidates.T, delta\n",
    "\n",
    "@jax.jit\n",
    "def compute_optimal_theta(x_candidates, y_candidates, delta,  xp, yp, field):\n",
    "\n",
    "    # Compare against vecotrized implementaiton\n",
    "    N_interps_vec = vmap(bilinear_interpolate, in_axes = (0,0,None, None, None))(x_candidates, y_candidates, xp, yp, field.T)\n",
    "\n",
    "    # Now we need to find the argmax\n",
    "    argmaxes = jnp.argmax(N_interps_vec, axis = 1)\n",
    "    col_indices = jnp.arange(argmaxes.shape[0])\n",
    "    x_opts = x_candidates[col_indices, argmaxes]\n",
    "    y_opts = y_candidates[col_indices, argmaxes]\n",
    "    \n",
    "    theta_opts = delta[col_indices, argmaxes]\n",
    "\n",
    "    return theta_opts, x_opts, y_opts"
   ]
  },
  {
   "cell_type": "code",
   "execution_count": 64,
   "id": "bc3096dc-5d20-4d00-a633-ea0af846d97e",
   "metadata": {},
   "outputs": [],
   "source": [
    "@jax.jit\n",
    "def circ_shader(x_points, y_points, P, w):\n",
    "\n",
    "    # Compute distances using broadcasting and update P\n",
    "    distances = jnp.sqrt((XX[..., jnp.newaxis] - x_points)**2 + (YY[..., jnp.newaxis] - y_points)**2)\n",
    "    P_new = jnp.where(jnp.any(distances < w/2, axis=-1), 1, P)\n",
    "\n",
    "    return P_new"
   ]
  },
  {
   "cell_type": "code",
   "execution_count": 65,
   "id": "78dafd52-74bd-4230-b3e8-db6053b47908",
   "metadata": {},
   "outputs": [],
   "source": [
    "N_candidates = 200\n",
    "\n",
    "@jax.jit\n",
    "def growth_update(swarm_state, pde_state, C_prev):\n",
    "\n",
    "    # Pull off current PDE state for computations\n",
    "    N_cur, C_cur, P_cur = pde_state\n",
    "\n",
    "    # Pull off the active swarm values first\n",
    "    swarm_array, swarm_mask = swarm_state\n",
    "    \n",
    "    # Pull off the x, y, and theta values\n",
    "    rX, rY, theta = swarm_array.T\n",
    "    \n",
    "    # Compute number of active tips\n",
    "    n_active_tips = jnp.sum(swarm_mask)\n",
    "    \n",
    "    # Compute the total gain in biomass form the system\n",
    "    dC = (jnp.sum(C_cur*dx*dy) - jnp.sum(C_prev*dx*dy))\n",
    "\n",
    "    # Compute length of expansions\n",
    "    dl = gamma*dC/(n_active_tips*width)\n",
    "\n",
    "    # Update the swarm positions\n",
    "\n",
    "    # 1. Compute optimal growth directions\n",
    "\n",
    "    # Generate x and y candidates for the \n",
    "    x_candidates, y_candidates, delta = return_candidates_matrix(rX, rY, dl)\n",
    "    theta_opts, x_opts , y_opts = compute_optimal_theta(x_candidates, y_candidates, delta, x, y, N_cur)\n",
    "\n",
    "    # 2. Actually update the position and pattern matrix but only on the active nodes. \n",
    "    swarm_array_new = (jnp.array([x_opts, y_opts, theta_opts])*swarm_mask).T\n",
    "    \n",
    "    P_new = circ_shader(x_opts, y_opts, P_cur, w) \n",
    "    \n",
    "    C_new = jnp.sum(C_cur*dx*dy)/(jnp.sum(P_new)*dx*dy)*P_new \n",
    "\n",
    "    # 3. Check if a given point is reached the boundary of the system, in which case set it to inactive for the \n",
    "    #next iteration. \n",
    "    radial_distance = jnp.sqrt( x_opts**2 + y_opts**2 )\n",
    "    swarm_mask_new =  jnp.where( (radial_distance >= 0.85*L/2), 0, swarm_mask )\n",
    "    \n",
    "    # Generate new state and return\n",
    "    updated_swarm_state = (swarm_array_new, swarm_mask_new)\n",
    "    updated_pde_state = (N_cur, C_new, P_new)\n",
    "\n",
    "    \n",
    "    return updated_swarm_state, updated_pde_state"
   ]
  },
  {
   "cell_type": "markdown",
   "id": "2d432088-3b32-41e0-bf18-89481bc04e65",
   "metadata": {},
   "source": [
    "And lastly, we define the main simulation loop which performs all the computation. This will seperately call the internal subroutines in the sytem to solve different components of the simulation. "
   ]
  },
  {
   "cell_type": "code",
   "execution_count": 66,
   "id": "03a112b3",
   "metadata": {},
   "outputs": [],
   "source": [
    "SimState = namedtuple(\"SimState\", [\"pde_state\", \"swarm_state\"])\n",
    "num_pde_steps = 25\n",
    "num_steps = 48\n",
    "\n",
    "# This is a functionally pure step of the entire simulation, updating the PDE solver and \n",
    "# performing the agent based update of the branches in parallel\n",
    "@scan_tqdm(num_steps)\n",
    "def sim_step(state, x):\n",
    "\n",
    "    # Pull off the state variables for the system \n",
    "    pde_state, swarm_state = state    \n",
    "    _, C, _ = pde_state\n",
    "\n",
    "    updated_pde_state, _ = jax.lax.scan(\n",
    "        pde_update,\n",
    "        state.pde_state,\n",
    "        jnp.arange(num_pde_steps)\n",
    "    )\n",
    "    \n",
    "    # perform agent based update...\n",
    "    updated_swarm, updated_pde = growth_update(swarm_state, updated_pde_state, C)\n",
    "\n",
    "    # updated_pde = updated_pde_state\n",
    "    # updated_swarm = swarm_state\n",
    "    \n",
    "    updated_state = SimState(updated_pde, updated_swarm)\n",
    "\n",
    "    return updated_state, updated_state"
   ]
  },
  {
   "cell_type": "markdown",
   "id": "ab6f071b-d409-4772-965c-2fb725290068",
   "metadata": {},
   "source": [
    "Here is the main code of the simulation> "
   ]
  },
  {
   "cell_type": "code",
   "execution_count": 67,
   "id": "df793bfb-1a63-4421-b067-61cda3249633",
   "metadata": {},
   "outputs": [],
   "source": [
    "pde_state0, n_tips0 = init_pde(c0, N0, r0)\n",
    "swarm_state0 = init_swarm( int(n_tips0), 64)\n",
    "init_state = SimState(pde_state0,  swarm_state0 )"
   ]
  },
  {
   "cell_type": "code",
   "execution_count": 69,
   "id": "fb45fa57-1fa7-4f0f-8d4c-5ba985eabfc6",
   "metadata": {},
   "outputs": [
    {
     "name": "stderr",
     "output_type": "stream",
     "text": [
      "Running for 48 iterations: 100%|█████████████████████████████████████████████████████████████████████████████████████████████████████████████████████████████████████████████████████████████████████████████████████████████████████████████| 48/48 [00:00<00:00, 117.00it/s]"
     ]
    },
    {
     "name": "stdout",
     "output_type": "stream",
     "text": [
      "0.424562931060791\n"
     ]
    },
    {
     "name": "stderr",
     "output_type": "stream",
     "text": [
      "\n"
     ]
    }
   ],
   "source": [
    "start = time.time()\n",
    "final_state, simulation_trace = jax.lax.scan(\n",
    "    sim_step,\n",
    "    init_state,\n",
    "    jnp.arange(num_steps)\n",
    ")\n",
    "print( time.time() - start ) \n",
    "\n",
    "pde_trace, swarm_trace = simulation_trace\n",
    "N, C, P = pde_trace\n",
    "swarm_array, swarm_mask = swarm_trace"
   ]
  },
  {
   "cell_type": "code",
   "execution_count": 70,
   "id": "40c6d67a-2803-439b-808c-8961d5efdc69",
   "metadata": {},
   "outputs": [
    {
     "data": {
      "text/plain": [
       "(48, 1000, 1000)"
      ]
     },
     "execution_count": 70,
     "metadata": {},
     "output_type": "execute_result"
    }
   ],
   "source": [
    "P.shape"
   ]
  },
  {
   "cell_type": "code",
   "execution_count": 71,
   "id": "6dec08b0-1eaf-445d-8080-2a7896e11351",
   "metadata": {},
   "outputs": [
    {
     "data": {
      "image/png": "[encoded data removed]",
      "text/plain": [
       "<Figure size 1000x500 with 2 Axes>"
      ]
     },
     "metadata": {},
     "output_type": "display_data"
    }
   ],
   "source": [
    "for i in range(0,  P.shape[0] , 10):\n",
    "\n",
    "    #plt.contourf(XX, YY, N[i], vmin = 0, vmax = N0)\n",
    "    fig, [ax1, ax2] = plt.subplots(1, 2, figsize = (10,5))\n",
    "    ax1.scatter(swarm_array[i, :,0], swarm_array[i, :, 1], color = 'red', zorder = 10,)\n",
    "    ax1.contourf(XX, YY, P[i], cmap = \"Blues\")\n",
    "    ax1.set_title(\"Pattern\")\n",
    "\n",
    "    ax2.contourf(XX, YY, N[i], cmap = \"Greens\", vmin = 0, vmax = N0)\n",
    "    ax2.set_title(\"Nutrient\")\n",
    "    plt.show()\n",
    "\n",
    "    clear_output(wait = True)"
   ]
  },
  {
   "cell_type": "code",
   "execution_count": 20,
   "id": "2d9f98c9-708e-4ec9-817e-45a1d36fe895",
   "metadata": {},
   "outputs": [],
   "source": [
    "\n",
    "# for i in range(0,N.shape[0],1):\n",
    "\n",
    "#     ax = plt.subplot()\n",
    "#     ax.set_ylim(0,10)\n",
    "#     ax.plot(x, N[i,int(nx/2),:], color = 'green')\n",
    "\n",
    "#     ax_twin = ax.twinx()\n",
    "#     ax_twin.plot(x, C[i,int(nx/2),:], color = 'red')\n",
    "#     ax_twin.set_ylim(0,10)\n",
    "#     ax.axhline(1.0, -L/2, L/2, linestyle = '--')\n",
    "    \n",
    "#     plt.show()\n",
    "\n",
    "#     clear_output(wait = True)"
   ]
  },
  {
   "cell_type": "code",
   "execution_count": 21,
   "id": "a02a4378-70a3-4521-9674-3058cabc4d30",
   "metadata": {},
   "outputs": [
    {
     "data": {
      "image/png": "[encoded data removed]",
      "text/plain": [
       "<Figure size 640x480 with 1 Axes>"
      ]
     },
     "metadata": {},
     "output_type": "display_data"
    }
   ],
   "source": [
    "C_masses = jnp.sum(C, axis = (1,2))\n",
    "plt.plot(C_masses, marker = '.', color = 'red')\n",
    "plt.show()"
   ]
  },
  {
   "cell_type": "code",
   "execution_count": 22,
   "id": "7cc468d8-0c01-4c64-bb05-fec0221e85be",
   "metadata": {},
   "outputs": [],
   "source": [
    "# fig, [ax1, ax2, ax3] = plt.subplots(1,3, figsize = (12,4))\n",
    "\n",
    "# ax1.contourf(N[:,int(nx/2),:], cmap = \"Greens\", levels = 30)\n",
    "# ax2.contourf(C[:,int(nx/2),:], cmap = \"Reds\", levels = 30)\n",
    "# ax3.contourf(P[:,int(nx/2),:], cmap = \"Blues\", levels = 30)\n",
    "# plt.tight_layout()\n",
    "# plt.show()"
   ]
  },
  {
   "cell_type": "code",
   "execution_count": 23,
   "id": "8fbfa335-d708-4c4a-ac65-a75371d32710",
   "metadata": {},
   "outputs": [],
   "source": [
    "# swarm_array, swarm_mask = final_state.swarm_state\n",
    "\n",
    "# plt.figure(figsize = (5,5))\n",
    "# plt.scatter(swarm_array[:,0], swarm_array[:,1], color = 'red')\n",
    "# plt.contourf(XX, YY, P[-1])\n",
    "# plt.show()"
   ]
  }
 ],
 "metadata": {
  "kernelspec": {
   "display_name": "jax_gpu",
   "language": "python",
   "name": "jax_gpu"
  },
  "language_info": {
   "codemirror_mode": {
    "name": "ipython",
    "version": 3
   },
   "file_extension": ".py",
   "mimetype": "text/x-python",
   "name": "python",
   "nbconvert_exporter": "python",
   "pygments_lexer": "ipython3",
   "version": "3.10.12"
  }
 },
 "nbformat": 4,
 "nbformat_minor": 5
}
