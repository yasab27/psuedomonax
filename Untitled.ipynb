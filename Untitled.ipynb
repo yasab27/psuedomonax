{
 "cells": [
  {
   "cell_type": "code",
   "execution_count": 1,
   "id": "8a880d49",
   "metadata": {},
   "outputs": [],
   "source": [
    "import jax\n",
    "from jax import numpy as jnp\n",
    "\n",
    "from collections import namedtuple\n",
    "\n",
    "import matplotlib.pyplot as plt"
   ]
  },
  {
   "cell_type": "code",
   "execution_count": null,
   "id": "089117ad",
   "metadata": {},
   "outputs": [],
   "source": [
    "# Diffusion PDE Solver stuff"
   ]
  },
  {
   "cell_type": "code",
   "execution_count": null,
   "id": "6fb463c8",
   "metadata": {},
   "outputs": [],
   "source": [
    "# definition of branch computation logic\n",
    "def branch_update():"
   ]
  },
  {
   "cell_type": "code",
   "execution_count": null,
   "id": "03a112b3",
   "metadata": {},
   "outputs": [],
   "source": [
    "\n",
    "\n",
    "SimState = namedtuple(\"N\", \"branch_state\")\n",
    "\n",
    "\n",
    "\n",
    "\n",
    "\n",
    "# This is a functionally pure step of the entire simulation, updating the PDE solver and \n",
    "# performing the agent based update of the branches in parallel\n",
    "def sim_step(state):\n",
    "    # solve PDE stuff using Yasa voodoo\n",
    "    \n",
    "    \n",
    "    \n",
    "    \n",
    "    # perform agent based update...\n",
    "    \n",
    "    "
   ]
  }
 ],
 "metadata": {
  "kernelspec": {
   "display_name": "Python 3 (ipykernel)",
   "language": "python",
   "name": "python3"
  },
  "language_info": {
   "codemirror_mode": {
    "name": "ipython",
    "version": 3
   },
   "file_extension": ".py",
   "mimetype": "text/x-python",
   "name": "python",
   "nbconvert_exporter": "python",
   "pygments_lexer": "ipython3",
   "version": "3.10.12"
  }
 },
 "nbformat": 4,
 "nbformat_minor": 5
}
